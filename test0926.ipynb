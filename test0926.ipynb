{
 "cells": [
  {
   "cell_type": "code",
   "execution_count": null,
   "metadata": {
    "id": "VehSGqkqxVUB"
   },
   "outputs": [],
   "source": [
    "print(\"Hello World!\")\n",
    "print(\"Hello World!\")\n"
   ]
  },
  {
   "cell_type": "code",
   "execution_count": null,
   "metadata": {
    "id": "vIE3AL2d1duY"
   },
   "outputs": [],
   "source": [
    "for i in range(0,3):\n",
    "  print(\"hi\")"
   ]
  },
  {
   "cell_type": "code",
   "execution_count": null,
   "metadata": {
    "id": "DYW9qO0o34Qy"
   },
   "outputs": [],
   "source": [
    "print(\"what the,,\")"
   ]
  }
 ],
 "metadata": {
  "colab": {
   "authorship_tag": "ABX9TyO+zAA80Fa0CpLRblAkZKtl",
   "provenance": []
  },
  "kernelspec": {
   "display_name": "Python 3",
   "name": "python3"
  },
  "language_info": {
   "name": "python"
  }
 },
 "nbformat": 4,
 "nbformat_minor": 0
}
